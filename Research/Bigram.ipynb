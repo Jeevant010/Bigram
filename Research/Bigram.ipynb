{
 "cells": [
  {
   "cell_type": "code",
   "execution_count": 2,
   "id": "8884c215",
   "metadata": {},
   "outputs": [
    {
     "name": "stdout",
     "output_type": "stream",
     "text": [
      "cpu\n"
     ]
    }
   ],
   "source": [
    "import torch\n",
    "import torch.nn as nn\n",
    "from torch.nn import functional as F\n",
    "device = 'cuda' if torch.cuda.is_available() else 'cpu'\n",
    "print(device)\n"
   ]
  },
  {
   "cell_type": "code",
   "execution_count": 3,
   "id": "38d96f5d",
   "metadata": {},
   "outputs": [],
   "source": [
    "#hyperparameters\n",
    "block_size = 8\n",
    "batch_size = 4\n",
    "max_iters = 1000\n",
    "# eval_interval = 2500\n",
    "learning_rate = 3e-4\n",
    "eval_iters = 250"
   ]
  },
  {
   "cell_type": "code",
   "execution_count": 4,
   "id": "ec779fe5",
   "metadata": {},
   "outputs": [
    {
     "name": "stdout",
     "output_type": "stream",
     "text": [
      "['\\n', ' ', '!', '\"', '&', \"'\", '(', ')', '*', ',', '-', '.', '0', '1', '2', '3', '4', '5', '6', '7', '8', '9', ':', ';', '?', 'A', 'B', 'C', 'D', 'E', 'F', 'G', 'H', 'I', 'J', 'K', 'L', 'M', 'N', 'O', 'P', 'Q', 'R', 'S', 'T', 'U', 'V', 'W', 'X', 'Y', 'Z', '[', ']', '_', 'a', 'b', 'c', 'd', 'e', 'f', 'g', 'h', 'i', 'j', 'k', 'l', 'm', 'n', 'o', 'p', 'q', 'r', 's', 't', 'u', 'v', 'w', 'x', 'y', 'z', '\\ufeff']\n"
     ]
    }
   ],
   "source": [
    "with open ('../wizard_of_oz.txt', 'r', encoding='utf-8' ) as f:\n",
    "    text = f.read()\n",
    "chars = sorted(set(text))\n",
    "print(chars)\n",
    "vocab_size = len(chars)"
   ]
  },
  {
   "cell_type": "code",
   "execution_count": 5,
   "id": "9ea6d047",
   "metadata": {},
   "outputs": [
    {
     "name": "stdout",
     "output_type": "stream",
     "text": [
      "tensor([80,  1,  1, 28, 39, 42, 39, 44, 32, 49,  1, 25, 38, 28,  1, 44, 32, 29,\n",
      "         1, 47, 33, 50, 25, 42, 28,  1, 33, 38,  1, 39, 50,  0,  0,  1,  1, 26,\n",
      "        49,  0,  0,  1,  1, 36, 11,  1, 30, 42, 25, 38, 35,  1, 26, 25, 45, 37,\n",
      "         0,  0,  1,  1, 25, 45, 44, 32, 39, 42,  1, 39, 30,  1, 44, 32, 29,  1,\n",
      "        47, 33, 50, 25, 42, 28,  1, 39, 30,  1, 39, 50,  9,  1, 44, 32, 29,  1,\n",
      "        36, 25, 38, 28,  1, 39, 30,  1, 39, 50])\n"
     ]
    }
   ],
   "source": [
    "string_to_int = { ch:i for i, ch in enumerate(chars) }\n",
    "int_to_string = { ch:i for i,ch in enumerate(chars) }\n",
    "encode = lambda s: [string_to_int[c] for c in s]\n",
    "decode = lambda l: [int_to_string[c] for c in l]\n",
    "\n",
    "data = torch.tensor(encode(text), dtype=torch.long)\n",
    "print(data[:100])"
   ]
  },
  {
   "cell_type": "code",
   "execution_count": 6,
   "id": "cea598c4",
   "metadata": {},
   "outputs": [],
   "source": [
    "n = int(0.8*len(data))\n",
    "train_data = data[n:]\n",
    "val_data = data[:n]"
   ]
  },
  {
   "cell_type": "code",
   "execution_count": 7,
   "id": "8e0da6f1",
   "metadata": {},
   "outputs": [],
   "source": [
    "def get_batch(split):\n",
    "    data = train_data if split == 'train' else val_data\n",
    "    ix = torch.randint(len(data) - block_size , (batch_size, ))\n",
    "    x = torch.stack([data[i : i+block_size] for i in ix])\n",
    "    y = torch.stack([data[i+1 : i+block_size+1] for i in ix])\n",
    "    x, y = x.to(device) , y.to(device)\n",
    "    return x, y"
   ]
  },
  {
   "cell_type": "code",
   "execution_count": 8,
   "id": "790ab2f5",
   "metadata": {},
   "outputs": [
    {
     "name": "stdout",
     "output_type": "stream",
     "text": [
      "inputs : \n",
      "tensor([[78,  1, 75, 68, 62, 56, 58, 11],\n",
      "        [65, 64, 58, 57,  1, 65, 68, 67],\n",
      "        [73, 61, 58,  1, 29, 66, 58, 71],\n",
      "        [68, 73,  1, 68, 59, 73, 58, 67]])\n",
      "targets : \n",
      "tensor([[ 1, 75, 68, 62, 56, 58, 11,  0],\n",
      "        [64, 58, 57,  1, 65, 68, 67, 60],\n",
      "        [61, 58,  1, 29, 66, 58, 71, 54],\n",
      "        [73,  1, 68, 59, 73, 58, 67, 11]])\n"
     ]
    }
   ],
   "source": [
    "x , y = get_batch('train')\n",
    "print('inputs : ')\n",
    "#print(shape)\n",
    "print(x)\n",
    "print('targets : ')\n",
    "print(y)\n",
    "# print(y.shape)"
   ]
  },
  {
   "cell_type": "code",
   "execution_count": 20,
   "id": "d0204d7c",
   "metadata": {},
   "outputs": [],
   "source": [
    "@torch.no_grad()\n",
    "def estimate_loss():\n",
    "    out = {}\n",
    "    model.eval()\n",
    "    for split in ['train' , 'val']:\n",
    "        losses = torch.zeros(eval_iters)\n",
    "        for k in range(eval_iters):\n",
    "            X, Y = get_batch(split)\n",
    "            logits, loss = model(X, Y)\n",
    "            losses[k] = loss.item()\n",
    "        out[split] = losses.mean()\n",
    "    model.train()\n",
    "    return out"
   ]
  },
  {
   "cell_type": "code",
   "execution_count": 28,
   "id": "8dd74f0a",
   "metadata": {},
   "outputs": [
    {
     "name": "stdout",
     "output_type": "stream",
     "text": [
      "\n",
      "w6j'0h'vqNu6 Ge\"(n&PTX7W;oAQ\"M8f;.Lfu﻿Tz)55\n",
      "ig7odDhH.Lw PooD7BIJpI'060:SH _c5NrFzp:-WW*FQiHL2YKt?uT8!kRyl[﻿La\"h_uFQ.\n",
      "'P9nVgPpW\n",
      "RSH*b1k)5ji)gf7&(uF!,GV]5:?Wn8Ta6;t?dcQxd;UrjIeL2bNlTwZ18\"SDp_cw'I\n",
      "m2VBit Tdc7RJ*Ye(]XgYJazLIeJSn)5 XYqX;m17vSQ&QZ\n",
      "OLjl08ywYdN'RyOG&J.[sAd?e(rG)U\n",
      "f)dmxViwT4EUtT8_8iY8*cM0hq3﻿bjrAYDwDCD!U E18IFO cjz9yF\n",
      "-nz)v2y3*﻿o97QGs5f8f7rM&8D81CylO4Vvri1z)5OjXnuv*7PmI&QTM3**FieV]]rAm)\n",
      ";qP9.P9QigV8:v.!kwj]\"((KVW*u6N1EE1\n",
      "7z)5CTNq-:C0 FQ;n!x\n",
      "-,iY\n",
      "YYLd,m2\n",
      "VQZ\n",
      "JHvSqXuLSIJ3o1vD﻿(W5eJKbJqs9e*\n"
     ]
    }
   ],
   "source": [
    "class BigramLanguageModel(nn.Module):\n",
    "    def __init__(self, vocab_size):\n",
    "        super().__init__()\n",
    "        self.token_embedding_table = nn.Embedding(vocab_size, vocab_size)\n",
    "        \n",
    "    def forward(self, index, targets=None):\n",
    "        logits = self.token_embedding_table(index)  # (B, T, C)\n",
    "        \n",
    "        if targets is None:\n",
    "            loss = None\n",
    "        else:\n",
    "            B, T, C = logits.shape\n",
    "            logits = logits.view(B*T, C)\n",
    "            targets = targets.view(B*T)\n",
    "            loss = F.cross_entropy(logits, targets)\n",
    "        \n",
    "        return logits, loss\n",
    "    \n",
    "    def generate(self, index, max_new_tokens):\n",
    "        # index is (B, T)\n",
    "        for _ in range(max_new_tokens):\n",
    "            logits, _ = self.forward(index)           # (B, T, C)\n",
    "            logits = logits[:, -1, :]                 # take last time step -> (B, C)\n",
    "            probs = F.softmax(logits, dim=-1)         # (B, C)\n",
    "            index_next = torch.multinomial(probs, num_samples=1)  # (B, 1)\n",
    "            index = torch.cat((index, index_next), dim=1)\n",
    "        return index\n",
    "\n",
    "# re-create model on device\n",
    "model = BigramLanguageModel(vocab_size)\n",
    "m = model.to(device)\n",
    "\n",
    "# fix int->char mapping and decode for printing\n",
    "# int_to_string = { i:ch for i,ch in enumerate(chars) }\n",
    "# decode = lambda l: ''.join(int_to_string[i] for i in l)\n",
    "\n",
    "context = torch.zeros((1, 1), dtype=torch.long, device=device)\n",
    "generated_indices = m.generate(context, max_new_tokens=500)[0].tolist()\n",
    "generated_chars = decode(generated_indices)\n",
    "print(generated_chars)\n"
   ]
  },
  {
   "cell_type": "code",
   "execution_count": null,
   "id": "9655e78b",
   "metadata": {},
   "outputs": [],
   "source": []
  }
 ],
 "metadata": {
  "kernelspec": {
   "display_name": "LLM",
   "language": "python",
   "name": "python3"
  },
  "language_info": {
   "codemirror_mode": {
    "name": "ipython",
    "version": 3
   },
   "file_extension": ".py",
   "mimetype": "text/x-python",
   "name": "python",
   "nbconvert_exporter": "python",
   "pygments_lexer": "ipython3",
   "version": "3.13.5"
  }
 },
 "nbformat": 4,
 "nbformat_minor": 5
}
