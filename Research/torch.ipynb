{
 "cells": [
  {
   "cell_type": "markdown",
   "id": "8b96754a",
   "metadata": {},
   "source": [
    "#Normal Imports"
   ]
  },
  {
   "cell_type": "code",
   "execution_count": 1,
   "id": "e67831ad",
   "metadata": {},
   "outputs": [],
   "source": [
    "import torch\n",
    "import torch.nn as nn\n",
    "from torch.nn import functional as F\n",
    "import numpy as np\n",
    "import pandas as pd\n",
    "import time"
   ]
  },
  {
   "cell_type": "code",
   "execution_count": 2,
   "id": "54df61ad",
   "metadata": {},
   "outputs": [
    {
     "data": {
      "text/plain": [
       "'cpu'"
      ]
     },
     "execution_count": 2,
     "metadata": {},
     "output_type": "execute_result"
    }
   ],
   "source": [
    "device = 'cuda' if torch.cuda.is_available() else 'cpu'\n",
    "device"
   ]
  },
  {
   "cell_type": "code",
   "execution_count": 3,
   "id": "0f85a186",
   "metadata": {},
   "outputs": [
    {
     "name": "stdout",
     "output_type": "stream",
     "text": [
      "CPU times: total: 0 ns\n",
      "Wall time: 14.1 ms\n"
     ]
    },
    {
     "data": {
      "text/plain": [
       "tensor([[0.]])"
      ]
     },
     "execution_count": 3,
     "metadata": {},
     "output_type": "execute_result"
    }
   ],
   "source": [
    "%%time\n",
    "start_time = time.time()\n",
    "zeros = torch.zeros(1, 1)\n",
    "end_time = time.time()\n",
    "zeros"
   ]
  },
  {
   "cell_type": "code",
   "execution_count": 8,
   "id": "e9faf593",
   "metadata": {},
   "outputs": [
    {
     "name": "stdout",
     "output_type": "stream",
     "text": [
      "CPU times: total: 0 ns\n",
      "Wall time: 50.3 μs\n"
     ]
    },
    {
     "data": {
      "text/plain": [
       "array([0.])"
      ]
     },
     "execution_count": 8,
     "metadata": {},
     "output_type": "execute_result"
    }
   ],
   "source": [
    "%%time\n",
    "start_time_np = time.time()\n",
    "zeros_np = np.zeros(1)\n",
    "end_time_np = time.time()\n",
    "zeros_np"
   ]
  },
  {
   "cell_type": "code",
   "execution_count": 10,
   "id": "aa16e454",
   "metadata": {},
   "outputs": [
    {
     "name": "stdout",
     "output_type": "stream",
     "text": [
      "Time for the tensor array : 0.013962268829345703 \n",
      "Time for the numpy array : 1.3589859008789062e-05\n"
     ]
    }
   ],
   "source": [
    "elapsed_time = end_time - start_time\n",
    "elapsed_time_np = end_time_np - start_time_np\n",
    "print(f\"Time for the tensor array : {elapsed_time} \\nTime for the numpy array : {elapsed_time_np}\")"
   ]
  },
  {
   "cell_type": "code",
   "execution_count": 31,
   "id": "7f7b2643",
   "metadata": {},
   "outputs": [
    {
     "data": {
      "text/plain": [
       "0.21921229362487793"
      ]
     },
     "execution_count": 31,
     "metadata": {},
     "output_type": "execute_result"
    }
   ],
   "source": [
    "#np.dot is torch.matmul is the dot product for this\n",
    "torch_rand1 = torch.rand(100, 100, 100, 100).to(device)\n",
    "torch_rand2 = torch.rand(100, 100, 100, 100).to(device)\n",
    "np_rand1 = torch.rand(100, 100, 100, 100)\n",
    "np_rand2 = torch.rand(100, 100, 100, 100)\n",
    "\n",
    "start_time =time.time()\n",
    "\n",
    "rand = torch.matmul(torch_rand1, torch_rand2)\n",
    "\n",
    "end_time = time.time()\n",
    "\n",
    "elapsed_time = end_time - start_time\n",
    "elapsed_time\n"
   ]
  },
  {
   "cell_type": "code",
   "execution_count": 34,
   "id": "98876962",
   "metadata": {},
   "outputs": [
    {
     "name": "stderr",
     "output_type": "stream",
     "text": [
      "C:\\Users\\Jeevant\\AppData\\Local\\Temp\\ipykernel_7404\\2058661127.py:4: DeprecationWarning: __array_wrap__ must accept context and return_scalar arguments (positionally) in the future. (Deprecated NumPy 2.0)\n",
      "  rand_np = np.matmul(np_rand1, np_rand2)\n"
     ]
    },
    {
     "data": {
      "text/plain": [
       "0.7591400146484375"
      ]
     },
     "execution_count": 34,
     "metadata": {},
     "output_type": "execute_result"
    }
   ],
   "source": [
    "# use batch matrix multiplication (np.matmul) instead of np.dot to avoid creating a huge 6-D result\n",
    "start_time = time.time()\n",
    "\n",
    "rand_np = np.matmul(np_rand1, np_rand2)\n",
    "\n",
    "end_time = time.time()\n",
    "\n",
    "elapsed_time_np = end_time - start_time\n",
    "elapsed_time_np"
   ]
  },
  {
   "cell_type": "code",
   "execution_count": 35,
   "id": "ba29ac21",
   "metadata": {},
   "outputs": [
    {
     "name": "stdout",
     "output_type": "stream",
     "text": [
      "tensor([1, 1, 0, 1, 1, 1, 1, 1, 1, 1])\n"
     ]
    }
   ],
   "source": [
    "#embeddings :\n",
    "# torch.stack, torch.matmul, torch.multinomial, torch.tril, torch.triu, torch.T / torch.transpose, nn.Linear, torch.cat, F.softmax ........\n",
    "probabilities = torch.tensor([0.1, 0.9])\n",
    "# 10% or 0.1 => 0, 90% or 0.9 => 1. each probablitites points to the index of the probabilities in the tensor\n",
    "# Draw 5 samples from the multinomial distribution\n",
    "samples = torch.multinomial( probabilities, num_samples=10, replacement=True)\n",
    "print(samples)\n"
   ]
  },
  {
   "cell_type": "code",
   "execution_count": 41,
   "id": "cf62294a",
   "metadata": {},
   "outputs": [
    {
     "name": "stdout",
     "output_type": "stream",
     "text": [
      "tensor([1, 2, 3, 4, 5])\n"
     ]
    }
   ],
   "source": [
    "tensor = torch.tensor([1,2,3,4])\n",
    "out = torch.cat((tensor, torch.tensor([5])), dim=0)\n",
    "print(out)"
   ]
  },
  {
   "cell_type": "code",
   "execution_count": 40,
   "id": "08715f82",
   "metadata": {},
   "outputs": [
    {
     "name": "stdout",
     "output_type": "stream",
     "text": [
      "tensor([1, 2, 3, 4, 5])\n"
     ]
    }
   ],
   "source": [
    "tensor = torch.tensor([1,2,3,4])\n",
    "out = torch.cat((tensor, torch.tensor([5])), dim=-1)\n",
    "print(out)"
   ]
  },
  {
   "cell_type": "code",
   "execution_count": 42,
   "id": "548592c6",
   "metadata": {},
   "outputs": [
    {
     "data": {
      "text/plain": [
       "tensor([[1., 0., 0., 0., 0.],\n",
       "        [1., 1., 0., 0., 0.],\n",
       "        [1., 1., 1., 0., 0.],\n",
       "        [1., 1., 1., 1., 0.],\n",
       "        [1., 1., 1., 1., 1.]])"
      ]
     },
     "execution_count": 42,
     "metadata": {},
     "output_type": "execute_result"
    }
   ],
   "source": [
    "trilower = torch.tril(torch.ones(5,5))\n",
    "trilower"
   ]
  },
  {
   "cell_type": "code",
   "execution_count": 43,
   "id": "57e2f237",
   "metadata": {},
   "outputs": [
    {
     "data": {
      "text/plain": [
       "tensor([[1., 1., 1., 1., 1.],\n",
       "        [0., 1., 1., 1., 1.],\n",
       "        [0., 0., 1., 1., 1.],\n",
       "        [0., 0., 0., 1., 1.],\n",
       "        [0., 0., 0., 0., 1.]])"
      ]
     },
     "execution_count": 43,
     "metadata": {},
     "output_type": "execute_result"
    }
   ],
   "source": [
    "triupper = torch.triu(torch.ones(5,5))\n",
    "triupper"
   ]
  },
  {
   "cell_type": "code",
   "execution_count": 44,
   "id": "de189043",
   "metadata": {},
   "outputs": [
    {
     "data": {
      "text/plain": [
       "tensor([[0., -inf, -inf, -inf, -inf],\n",
       "        [0., 0., -inf, -inf, -inf],\n",
       "        [0., 0., 0., -inf, -inf],\n",
       "        [0., 0., 0., 0., -inf],\n",
       "        [0., 0., 0., 0., 0.]])"
      ]
     },
     "execution_count": 44,
     "metadata": {},
     "output_type": "execute_result"
    }
   ],
   "source": [
    "matriu = torch.zeros(5,5).masked_fill(torch.tril(torch.ones(5,5)) == 0, float('-inf'))\n",
    "matriu"
   ]
  },
  {
   "cell_type": "code",
   "execution_count": 45,
   "id": "cb24998b",
   "metadata": {},
   "outputs": [
    {
     "data": {
      "text/plain": [
       "tensor([[1., 0., 0., 0., 0.],\n",
       "        [1., 1., 0., 0., 0.],\n",
       "        [1., 1., 1., 0., 0.],\n",
       "        [1., 1., 1., 1., 0.],\n",
       "        [1., 1., 1., 1., 1.]])"
      ]
     },
     "execution_count": 45,
     "metadata": {},
     "output_type": "execute_result"
    }
   ],
   "source": [
    "exp = torch.exp(matriu)\n",
    "exp"
   ]
  },
  {
   "cell_type": "code",
   "execution_count": 49,
   "id": "4d72a07b",
   "metadata": {},
   "outputs": [
    {
     "name": "stdout",
     "output_type": "stream",
     "text": [
      "torch.Size([3, 2, 4])\n",
      "torch.Size([2, 3, 4])\n"
     ]
    }
   ],
   "source": [
    "input = torch.zeros(2,3,4)\n",
    "out1 = input.transpose(0,1)\n",
    "out2 = input.transpose(-2 , 1)\n",
    "print(out1.shape)\n",
    "print(out2.shape)"
   ]
  },
  {
   "cell_type": "code",
   "execution_count": 50,
   "id": "dec1af18",
   "metadata": {},
   "outputs": [
    {
     "data": {
      "text/plain": [
       "tensor([[1, 2, 3],\n",
       "        [4, 5, 6],\n",
       "        [7, 8, 9]])"
      ]
     },
     "execution_count": 50,
     "metadata": {},
     "output_type": "execute_result"
    }
   ],
   "source": [
    "tensor1 = torch.tensor([1, 2, 3])\n",
    "tensor2 = torch.tensor([4, 5, 6])\n",
    "tensor3 = torch.tensor([7, 8, 9])\n",
    "\n",
    "#Stacked them along a new dimension\n",
    "\n",
    "stacked_tensor = torch.stack([tensor1, tensor2, tensor3])\n",
    "stacked_tensor"
   ]
  },
  {
   "cell_type": "code",
   "execution_count": 52,
   "id": "a95a415f",
   "metadata": {},
   "outputs": [
    {
     "name": "stdout",
     "output_type": "stream",
     "text": [
      "tensor([ 4.0675,  6.2880, -0.0310], grad_fn=<SqueezeBackward4>)\n"
     ]
    }
   ],
   "source": [
    "import torch.nn as nn\n",
    "sample = torch.tensor([10., 10., 10.])\n",
    "linear = nn.Linear(3, 3, bias=False)\n",
    "print(linear(sample))"
   ]
  },
  {
   "cell_type": "code",
   "execution_count": null,
   "id": "97212a20",
   "metadata": {},
   "outputs": [
    {
     "name": "stdout",
     "output_type": "stream",
     "text": [
      "tensor([0.0900, 0.2447, 0.6652])\n"
     ]
    }
   ],
   "source": [
    "import torch.nn.functional as F\n",
    "\n",
    "#create a tensor \n",
    "tensor1 = torch.tensor([1.0, 2.0, 3.0])\n",
    "\n",
    "#Applying softmax using torch.nn.functional.softmax()\n",
    "softmax_output = F.softmax(tensor1, dim=0)\n",
    "\n",
    "print(softmax_output)"
   ]
  },
  {
   "cell_type": "code",
   "execution_count": 54,
   "id": "af992038",
   "metadata": {},
   "outputs": [
    {
     "name": "stdout",
     "output_type": "stream",
     "text": [
      "torch.Size([4, 6])\n",
      "tensor([[ 0.8353,  0.8121,  1.1494,  0.7898,  0.1033, -0.9996],\n",
      "        [ 0.9524, -1.6162, -2.1571,  1.0031, -1.3561, -2.3615],\n",
      "        [-0.7449,  1.7632, -0.4562,  0.2634,  0.0196,  0.5773],\n",
      "        [-0.7251,  0.5334,  1.0859, -1.1395, -0.8588, -3.0383]],\n",
      "       grad_fn=<EmbeddingBackward0>)\n"
     ]
    }
   ],
   "source": [
    "#Initialize an embedding vector\n",
    "vocab_size = 80\n",
    "embedding_dim = 6\n",
    "embedding = nn.Embedding(vocab_size, embedding_dim)\n",
    "\n",
    "#Creating some input indices\n",
    "input_indices = torch.LongTensor([1, 5, 3, 2])\n",
    "\n",
    "#Apply the embedding layer\n",
    "embedding_output = embedding(input_indices)\n",
    "\n",
    "#The output will be tensor of shape (4, 100) , where 4 is the number of inputs\n",
    "#and 100 is the dimensity of the embedding vectors\n",
    "print(embedding_output.shape)\n",
    "print(embedding_output)"
   ]
  },
  {
   "cell_type": "code",
   "execution_count": null,
   "id": "b06b020c",
   "metadata": {},
   "outputs": [
    {
     "name": "stdout",
     "output_type": "stream",
     "text": [
      "tensor([[ 27,  30,  33],\n",
      "        [ 61,  68,  75],\n",
      "        [ 95, 106, 117]])\n"
     ]
    }
   ],
   "source": [
    "a = torch.tensor([[1, 2], [3, 4], [5, 6]])\n",
    "b = torch.tensor([[7, 8, 9], [10, 11, 12]])\n",
    "#print(a@b)\n",
    "print(torch.matmul(a, b))"
   ]
  },
  {
   "cell_type": "code",
   "execution_count": 58,
   "id": "01622060",
   "metadata": {},
   "outputs": [
    {
     "data": {
      "text/plain": [
       "tensor([[ 27,  30,  33],\n",
       "        [ 61,  68,  75],\n",
       "        [ 95, 106, 117]])"
      ]
     },
     "execution_count": 58,
     "metadata": {},
     "output_type": "execute_result"
    }
   ],
   "source": [
    "a @ b"
   ]
  },
  {
   "cell_type": "code",
   "execution_count": null,
   "id": "67a2e0b5",
   "metadata": {},
   "outputs": [
    {
     "ename": "AttributeError",
     "evalue": "'builtin_function_or_method' object has no attribute 'dtype'",
     "output_type": "error",
     "traceback": [
      "\u001b[31m---------------------------------------------------------------------------\u001b[39m",
      "\u001b[31mAttributeError\u001b[39m                            Traceback (most recent call last)",
      "\u001b[36mCell\u001b[39m\u001b[36m \u001b[39m\u001b[32mIn[78]\u001b[39m\u001b[32m, line 5\u001b[39m\n\u001b[32m      3\u001b[39m float_32 = torch.rand(\u001b[32m2\u001b[39m, \u001b[32m3\u001b[39m)\n\u001b[32m      4\u001b[39m \u001b[38;5;66;03m#type float32\u001b[39;00m\n\u001b[32m----> \u001b[39m\u001b[32m5\u001b[39m \u001b[38;5;28mprint\u001b[39m(\u001b[43mint_64\u001b[49m\u001b[43m.\u001b[49m\u001b[43mdtype\u001b[49m(), float_32.dtype())\n\u001b[32m      6\u001b[39m \u001b[38;5;66;03m# result = torch.matmul(int_64, float_32)\u001b[39;00m\n\u001b[32m      7\u001b[39m \u001b[38;5;28mprint\u001b[39m(result)\n",
      "\u001b[31mAttributeError\u001b[39m: 'builtin_function_or_method' object has no attribute 'dtype'"
     ]
    }
   ],
   "source": [
    "int_64 = torch.randint(1, (3, 2)).float\n",
    "#type int64\n",
    "float_32 = torch.rand(2, 3)\n",
    "#type float32\n",
    "print(int_64.dtype(), float_32.dtype())\n",
    "result = torch.matmul(int_64, float_32)\n",
    "print(result)"
   ]
  },
  {
   "cell_type": "code",
   "execution_count": 79,
   "id": "457898d0",
   "metadata": {},
   "outputs": [
    {
     "name": "stdout",
     "output_type": "stream",
     "text": [
      "torch.Size([2, 3, 5])\n",
      "2 3 5\n",
      "torch.Size([2, 3, 5])\n"
     ]
    }
   ],
   "source": [
    "a = torch.rand(2, 3, 5)\n",
    "print(a.shape)\n",
    "x, y , z = a. shape\n",
    "a = a.view(x, y, z)\n",
    "print(x, y, z)\n",
    "print(a.shape)"
   ]
  },
  {
   "cell_type": "code",
   "execution_count": 80,
   "id": "cd092eb9",
   "metadata": {},
   "outputs": [
    {
     "name": "stdout",
     "output_type": "stream",
     "text": [
      "tensor([[7.1448e-01, 1.8475e-01, 2.0102e-01, 4.0570e-01, 8.8612e-01, 2.0743e-01,\n",
      "         5.1077e-01, 3.7298e-01, 8.0850e-01, 5.2007e-01],\n",
      "        [7.8412e-01, 2.6118e-01, 3.7562e-01, 7.8262e-01, 5.1823e-01, 3.5013e-01,\n",
      "         9.5245e-01, 3.8758e-01, 9.4915e-02, 9.5855e-01],\n",
      "        [5.7510e-01, 7.1145e-01, 4.3427e-01, 1.7449e-01, 7.1777e-01, 4.5878e-01,\n",
      "         8.5748e-01, 1.7953e-02, 2.0927e-01, 1.7103e-01],\n",
      "        [5.5305e-01, 6.6860e-02, 8.9135e-01, 9.2828e-01, 2.2116e-01, 7.0217e-01,\n",
      "         5.9173e-01, 8.7067e-01, 6.7164e-01, 1.4756e-01],\n",
      "        [1.9641e-01, 3.9470e-01, 2.3279e-01, 1.7805e-01, 7.4658e-01, 3.0232e-01,\n",
      "         2.1327e-01, 2.4263e-01, 7.0642e-01, 8.5303e-01],\n",
      "        [3.3284e-01, 1.8608e-01, 5.9807e-01, 1.1039e-01, 1.1520e-01, 9.7908e-01,\n",
      "         7.6473e-01, 1.0472e-01, 5.7270e-01, 5.3800e-01],\n",
      "        [2.7408e-01, 4.5747e-01, 2.9135e-01, 1.8731e-01, 8.9197e-01, 7.4070e-01,\n",
      "         4.3595e-01, 8.2271e-01, 8.2310e-01, 2.5314e-01],\n",
      "        [5.3810e-01, 3.9609e-01, 7.6408e-02, 3.8546e-01, 4.0335e-01, 9.1700e-01,\n",
      "         7.1377e-01, 5.7149e-01, 7.3218e-01, 2.2554e-01],\n",
      "        [6.0310e-01, 3.7921e-01, 4.2056e-01, 1.5165e-02, 4.4417e-03, 1.5046e-01,\n",
      "         6.5691e-01, 3.4320e-01, 4.5518e-01, 3.6117e-01],\n",
      "        [4.9640e-01, 7.3278e-01, 7.9894e-01, 2.0265e-01, 1.0233e-01, 7.1252e-01,\n",
      "         3.0164e-01, 3.3736e-01, 4.6390e-01, 5.8602e-01],\n",
      "        [3.7964e-01, 4.2693e-01, 6.4402e-01, 2.3151e-01, 1.4734e-01, 8.8067e-01,\n",
      "         9.7919e-01, 1.2257e-01, 8.7779e-01, 1.4987e-01],\n",
      "        [5.0025e-01, 2.5939e-02, 6.0793e-01, 5.5419e-01, 9.4195e-01, 7.4863e-01,\n",
      "         1.6612e-01, 2.5464e-01, 8.8811e-04, 9.2097e-01],\n",
      "        [8.7329e-01, 4.4070e-01, 7.0297e-01, 1.4278e-01, 7.4597e-01, 3.3537e-01,\n",
      "         2.9274e-02, 4.6643e-02, 1.2610e-01, 7.6180e-01],\n",
      "        [7.5837e-01, 2.8063e-01, 7.0173e-01, 6.1345e-01, 3.9043e-01, 8.1914e-01,\n",
      "         7.4247e-02, 8.8462e-01, 9.3678e-01, 1.8311e-02],\n",
      "        [5.9095e-01, 8.7823e-01, 6.8040e-01, 6.8664e-01, 9.2605e-01, 5.7959e-01,\n",
      "         4.9373e-01, 9.5067e-01, 3.9677e-01, 8.3978e-01],\n",
      "        [6.8160e-01, 5.8201e-01, 3.6933e-01, 1.1663e-01, 7.0413e-01, 1.6167e-01,\n",
      "         4.6079e-01, 2.5436e-01, 6.1005e-01, 9.1082e-01],\n",
      "        [3.9369e-02, 8.0617e-01, 8.5672e-01, 4.4429e-01, 8.9886e-01, 9.0282e-01,\n",
      "         2.7275e-01, 8.0390e-01, 5.1732e-01, 5.1512e-01],\n",
      "        [8.9198e-01, 9.2291e-01, 2.9489e-01, 7.4391e-01, 6.4954e-01, 6.1094e-01,\n",
      "         5.1366e-01, 7.8159e-01, 6.1790e-01, 1.8217e-01],\n",
      "        [3.6213e-01, 9.7750e-01, 9.0920e-01, 5.7333e-01, 4.1328e-01, 8.3006e-01,\n",
      "         6.9978e-01, 9.7629e-01, 3.2689e-01, 4.3900e-01],\n",
      "        [9.4376e-02, 2.4573e-01, 3.4978e-02, 7.5502e-01, 1.3538e-01, 6.0094e-02,\n",
      "         3.4183e-01, 2.3068e-01, 1.4114e-01, 7.5154e-01],\n",
      "        [1.1628e-02, 1.6430e-01, 3.3421e-01, 2.8222e-01, 2.6035e-01, 3.3658e-01,\n",
      "         4.4338e-01, 4.7056e-01, 4.1294e-01, 2.6610e-01],\n",
      "        [4.2567e-01, 3.4215e-01, 8.4208e-01, 6.6278e-01, 2.4991e-01, 3.9340e-01,\n",
      "         1.8749e-01, 6.8959e-02, 3.6738e-01, 9.5214e-01],\n",
      "        [4.5720e-01, 1.3449e-01, 4.9751e-01, 9.4943e-01, 2.7093e-01, 1.2662e-01,\n",
      "         6.8831e-01, 9.6572e-01, 8.9352e-01, 7.6078e-01],\n",
      "        [9.3716e-01, 9.8386e-01, 4.8614e-01, 2.1757e-01, 6.4479e-01, 9.9616e-01,\n",
      "         7.8529e-01, 2.3090e-01, 9.5000e-01, 2.1972e-01],\n",
      "        [4.6828e-01, 4.4221e-01, 1.2195e-02, 7.8709e-01, 9.6435e-02, 2.6388e-01,\n",
      "         4.2604e-01, 7.1403e-01, 5.1579e-01, 8.8509e-01],\n",
      "        [3.3719e-01, 8.5506e-01, 5.0402e-01, 5.1655e-01, 6.2607e-01, 1.0218e-01,\n",
      "         2.1560e-01, 1.1979e-01, 6.6959e-01, 2.1161e-02],\n",
      "        [3.9501e-01, 9.2322e-01, 9.7469e-01, 6.3478e-01, 1.0786e-01, 7.6633e-01,\n",
      "         4.3255e-01, 1.9448e-01, 9.4830e-01, 9.2529e-01],\n",
      "        [4.5053e-01, 3.6366e-01, 8.9881e-01, 9.7414e-01, 2.0923e-01, 6.3458e-01,\n",
      "         8.2814e-01, 1.2680e-01, 4.2000e-01, 9.1178e-02],\n",
      "        [6.6869e-01, 2.2999e-01, 3.4756e-01, 3.8739e-01, 7.2288e-01, 8.5270e-01,\n",
      "         4.4615e-01, 5.7580e-01, 8.6586e-02, 7.4044e-01],\n",
      "        [1.7652e-01, 8.7580e-01, 8.7296e-01, 7.6315e-02, 6.9452e-01, 2.2616e-01,\n",
      "         6.2432e-01, 9.3699e-01, 8.6880e-01, 4.7255e-01],\n",
      "        [3.9442e-01, 5.1494e-01, 6.8793e-01, 4.6304e-01, 7.7354e-01, 9.9604e-01,\n",
      "         6.7581e-01, 2.9040e-01, 7.7898e-02, 1.4615e-01],\n",
      "        [1.1761e-01, 8.4071e-01, 8.2099e-01, 7.0838e-02, 7.9389e-01, 2.2375e-01,\n",
      "         8.1713e-01, 4.7352e-01, 1.6929e-01, 5.5962e-01]])\n",
      "tensor([[0.5201],\n",
      "        [0.9586],\n",
      "        [0.1710],\n",
      "        [0.1476],\n",
      "        [0.8530],\n",
      "        [0.5380],\n",
      "        [0.2531],\n",
      "        [0.2255],\n",
      "        [0.3612],\n",
      "        [0.5860],\n",
      "        [0.1499],\n",
      "        [0.9210],\n",
      "        [0.7618],\n",
      "        [0.0183],\n",
      "        [0.8398],\n",
      "        [0.9108],\n",
      "        [0.5151],\n",
      "        [0.1822],\n",
      "        [0.4390],\n",
      "        [0.7515],\n",
      "        [0.2661],\n",
      "        [0.9521],\n",
      "        [0.7608],\n",
      "        [0.2197],\n",
      "        [0.8851],\n",
      "        [0.0212],\n",
      "        [0.9253],\n",
      "        [0.0912],\n",
      "        [0.7404],\n",
      "        [0.4725],\n",
      "        [0.1462],\n",
      "        [0.5596]])\n"
     ]
    }
   ],
   "source": [
    "input = torch.rand((4, 8, 10))\n",
    "B, T, C = input.shape\n",
    "output = input.view(B*T, C)\n",
    "print(output)\n",
    "#print(input)\n",
    "print(output[:, -1:])"
   ]
  },
  {
   "cell_type": "code",
   "execution_count": 81,
   "id": "7392a4ee",
   "metadata": {},
   "outputs": [
    {
     "name": "stdout",
     "output_type": "stream",
     "text": [
      "tensor([1.])\n"
     ]
    }
   ],
   "source": [
    "x = torch.tensor([10], dtype=torch.float32)\n",
    "y =  F.tanh(x)\n",
    "print(y)"
   ]
  }
 ],
 "metadata": {
  "kernelspec": {
   "display_name": "LLM",
   "language": "python",
   "name": "python3"
  },
  "language_info": {
   "codemirror_mode": {
    "name": "ipython",
    "version": 3
   },
   "file_extension": ".py",
   "mimetype": "text/x-python",
   "name": "python",
   "nbconvert_exporter": "python",
   "pygments_lexer": "ipython3",
   "version": "3.13.5"
  }
 },
 "nbformat": 4,
 "nbformat_minor": 5
}
